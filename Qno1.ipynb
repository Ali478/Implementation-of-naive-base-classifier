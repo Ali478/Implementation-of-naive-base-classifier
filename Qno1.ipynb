{
  "nbformat": 4,
  "nbformat_minor": 0,
  "metadata": {
    "colab": {
      "name": "Qno1.ipynb",
      "provenance": [],
      "authorship_tag": "ABX9TyP1rFp+N1/P1VsBWQFB3z37",
      "include_colab_link": true
    },
    "kernelspec": {
      "name": "python3",
      "display_name": "Python 3"
    },
    "language_info": {
      "name": "python"
    }
  },
  "cells": [
    {
      "cell_type": "markdown",
      "metadata": {
        "id": "view-in-github",
        "colab_type": "text"
      },
      "source": [
        "<a href=\"https://colab.research.google.com/github/Ali478/Implementation-of-naive-base-classifier/blob/main/Qno1.ipynb\" target=\"_parent\"><img src=\"https://colab.research.google.com/assets/colab-badge.svg\" alt=\"Open In Colab\"/></a>"
      ]
    },
    {
      "cell_type": "markdown",
      "source": [
        "# **Module that allows Python to read data from Excel files.**"
      ],
      "metadata": {
        "id": "ZwvqzEZrQmkW"
      }
    },
    {
      "cell_type": "code",
      "execution_count": null,
      "metadata": {
        "id": "i7SJ7AfVLlzX"
      },
      "outputs": [],
      "source": [
        "import xlrd"
      ]
    },
    {
      "cell_type": "markdown",
      "source": [
        "# **Connect Google Drive To Pick up the content**"
      ],
      "metadata": {
        "id": "I8_gjKBCVTBP"
      }
    },
    {
      "cell_type": "code",
      "source": [
        "from google.colab import drive\n",
        "drive.mount('/content/drive')"
      ],
      "metadata": {
        "colab": {
          "base_uri": "https://localhost:8080/"
        },
        "id": "5ACqK38RRJ8x",
        "outputId": "ac48fa8d-f00d-4f77-8fd0-94a521123658"
      },
      "execution_count": null,
      "outputs": [
        {
          "output_type": "stream",
          "name": "stdout",
          "text": [
            "Drive already mounted at /content/drive; to attempt to forcibly remount, call drive.mount(\"/content/drive\", force_remount=True).\n"
          ]
        }
      ]
    },
    {
      "cell_type": "code",
      "source": [
        "dataset_file_path = \"/content/drive/MyDrive/golf-dataset.xlsx\""
      ],
      "metadata": {
        "id": "QEUePNkDQsaS"
      },
      "execution_count": null,
      "outputs": []
    },
    {
      "cell_type": "markdown",
      "source": [
        "# **`Open Excel file using python api XLRD`**"
      ],
      "metadata": {
        "id": "z8VuoCvoVfTg"
      }
    },
    {
      "cell_type": "code",
      "source": [
        "dataset_workbook = xlrd.open_workbook(dataset_file_path)\n",
        "dataset_sheet = dataset_workbook.sheet_by_index(0)"
      ],
      "metadata": {
        "id": "wK2CTkARQ3kV"
      },
      "execution_count": null,
      "outputs": []
    },
    {
      "cell_type": "markdown",
      "source": [
        "# **Using all 13 samples, decide whether or not you will play gold if the sample vector is [Sunny, Mild, High, TRUE]. That is, what is the class label for this sample?**"
      ],
      "metadata": {
        "id": "_AsU2gESV2QY"
      }
    },
    {
      "cell_type": "markdown",
      "source": [
        "\n",
        "\n",
        "\n",
        "---\n",
        "**Testing sample**\n",
        "\n",
        "\n",
        "---\n",
        "\n"
      ],
      "metadata": {
        "id": "RAcppT4UYq7c"
      }
    },
    {
      "cell_type": "code",
      "source": [
        "test_sample = [\"Sunny\", \"Mild\", \"High\", 1]\n",
        "total_samples = 13"
      ],
      "metadata": {
        "id": "oUeNVROnS44d"
      },
      "execution_count": null,
      "outputs": []
    },
    {
      "cell_type": "code",
      "source": [
        "no_count = 0\n",
        "yes_count = 0 "
      ],
      "metadata": {
        "id": "Xes1h2njS8pj"
      },
      "execution_count": null,
      "outputs": []
    },
    {
      "cell_type": "markdown",
      "source": [
        "\n",
        "\n",
        "---\n",
        "**Checking probability by Column Operation**\n",
        "\n",
        "---\n",
        "\n"
      ],
      "metadata": {
        "id": "-EBMP48raBYJ"
      }
    },
    {
      "cell_type": "code",
      "source": [
        "row_pointer, col_pointer = 1, 4\n",
        "\n",
        "while(row_pointer != total_samples + 1):\n",
        "\n",
        "    if dataset_sheet.cell_value(row_pointer, col_pointer) == \"No\":\n",
        "        no_count += 1\n",
        "    elif dataset_sheet.cell_value(row_pointer, col_pointer) == \"Yes\":\n",
        "        yes_count += 1\n",
        "\n",
        "    row_pointer += 1\n"
      ],
      "metadata": {
        "id": "fLXg_b5ZTCqV"
      },
      "execution_count": null,
      "outputs": []
    },
    {
      "cell_type": "markdown",
      "source": [
        "\n",
        "\n",
        "---\n",
        "\n",
        "\n",
        "**Probability Formula**\n",
        "\n",
        "---\n",
        "\n"
      ],
      "metadata": {
        "id": "anziMNGDaU_v"
      }
    },
    {
      "cell_type": "code",
      "source": [
        "no_probability = no_count / total_samples\n",
        "yes_probability = yes_count / total_samples"
      ],
      "metadata": {
        "id": "X603NwHHTbLW"
      },
      "execution_count": null,
      "outputs": []
    },
    {
      "cell_type": "code",
      "source": [
        "test_sample_probability_no = 0\n",
        "test_sample_probability_yes = 0"
      ],
      "metadata": {
        "id": "-59H0o2gTdAt"
      },
      "execution_count": null,
      "outputs": []
    },
    {
      "cell_type": "markdown",
      "source": [
        "\n",
        "\n",
        "---\n",
        "\n",
        "**Initializing variables**\n",
        "\n",
        "---\n",
        "\n"
      ],
      "metadata": {
        "id": "PjZT6sU6amUZ"
      }
    },
    {
      "cell_type": "code",
      "source": [
        "feature1 = test_sample[0]\n",
        "feature2 = test_sample[1]\n",
        "feature3 = test_sample[2]\n",
        "feature4 = test_sample[3]\n",
        "\n",
        "feature1_count_with_no = 0\n",
        "feature2_count_with_no = 0\n",
        "feature3_count_with_no = 0\n",
        "feature4_count_with_no = 0\n",
        "\n",
        "feature1_count_with_yes = 0\n",
        "feature2_count_with_yes = 0\n",
        "feature3_count_with_yes = 0\n",
        "feature4_count_with_yes = 0"
      ],
      "metadata": {
        "id": "GILAQ1ZgTfqX"
      },
      "execution_count": null,
      "outputs": []
    },
    {
      "cell_type": "markdown",
      "source": [
        "\n",
        "\n",
        "---\n",
        "\n",
        "\n",
        "**Remaining Colmun Operations**\n",
        "\n",
        "---\n",
        "\n"
      ],
      "metadata": {
        "id": "1nUijqoNazEO"
      }
    },
    {
      "cell_type": "code",
      "source": [
        "row_pointer, col_pointer = 1, 0\n",
        "\n",
        "while(row_pointer != (total_samples + 1)):\n",
        "\n",
        "    if dataset_sheet.cell_value(row_pointer, col_pointer) == feature1 and dataset_sheet.cell_value(row_pointer, col_pointer + 4) == \"No\":\n",
        "        feature1_count_with_no += 1 \n",
        "    elif dataset_sheet.cell_value(row_pointer, col_pointer) == feature1 and dataset_sheet.cell_value(row_pointer, col_pointer + 4) == \"Yes\": \n",
        "        feature1_count_with_yes += 1\n",
        "\n",
        "    row_pointer += 1"
      ],
      "metadata": {
        "id": "4K6ul45kTk_C"
      },
      "execution_count": null,
      "outputs": []
    },
    {
      "cell_type": "code",
      "source": [
        "row_pointer, col_pointer = 1, 1\n",
        "\n",
        "while(row_pointer != (total_samples + 1)):\n",
        "    \n",
        "    if dataset_sheet.cell_value(row_pointer, col_pointer) == feature2 and dataset_sheet.cell_value(row_pointer, col_pointer + 3) == \"No\":\n",
        "        feature2_count_with_no += 1 \n",
        "    elif dataset_sheet.cell_value(row_pointer, col_pointer) == feature2 and dataset_sheet.cell_value(row_pointer, col_pointer + 3) == \"Yes\": \n",
        "        feature2_count_with_yes += 1\n",
        "\n",
        "    row_pointer += 1"
      ],
      "metadata": {
        "id": "-lD1w6hjTqS-"
      },
      "execution_count": null,
      "outputs": []
    },
    {
      "cell_type": "code",
      "source": [
        "row_pointer, col_pointer = 1, 2\n",
        "\n",
        "while(row_pointer != (total_samples + 1)):\n",
        "    \n",
        "    if dataset_sheet.cell_value(row_pointer, col_pointer) == feature3 and dataset_sheet.cell_value(row_pointer, col_pointer + 2) == \"No\":\n",
        "        feature3_count_with_no += 1 \n",
        "    elif dataset_sheet.cell_value(row_pointer, col_pointer) == feature3 and dataset_sheet.cell_value(row_pointer, col_pointer + 2) == \"Yes\": \n",
        "        feature3_count_with_yes += 1\n",
        "\n",
        "    row_pointer += 1"
      ],
      "metadata": {
        "id": "E5Uy1XRfTvfR"
      },
      "execution_count": null,
      "outputs": []
    },
    {
      "cell_type": "code",
      "source": [
        "row_pointer, col_pointer = 1, 3\n",
        "\n",
        "while(row_pointer != (total_samples + 1)):\n",
        "    \n",
        "    if dataset_sheet.cell_value(row_pointer, col_pointer) == feature4 and dataset_sheet.cell_value(row_pointer, col_pointer + 1) == \"No\":\n",
        "        feature4_count_with_no += 1 \n",
        "    elif dataset_sheet.cell_value(row_pointer, col_pointer) == feature4 and dataset_sheet.cell_value(row_pointer, col_pointer + 1) == \"Yes\": \n",
        "        feature4_count_with_yes += 1\n",
        "\n",
        "    row_pointer += 1"
      ],
      "metadata": {
        "id": "HFFOPbI1T0Fd"
      },
      "execution_count": null,
      "outputs": []
    },
    {
      "cell_type": "markdown",
      "source": [
        "\n",
        "\n",
        "---\n",
        "\n",
        "**FINAL PROBABILITY FORMULA**\n",
        "\n",
        "\n",
        "---\n",
        "\n"
      ],
      "metadata": {
        "id": "AWuloz8IbLTK"
      }
    },
    {
      "cell_type": "code",
      "source": [
        "sample_probability_no = feature1_count_with_no / no_count * feature2_count_with_no / no_count * feature3_count_with_no / no_count * feature4_count_with_no/no_count * no_probability\n",
        "sample_probability_yes = feature1_count_with_yes / yes_count * feature2_count_with_yes / yes_count * feature3_count_with_yes / yes_count * feature4_count_with_yes / yes_count * yes_probability"
      ],
      "metadata": {
        "id": "wZt-EFhUT4Wb"
      },
      "execution_count": null,
      "outputs": []
    },
    {
      "cell_type": "markdown",
      "source": [
        "\n",
        "\n",
        "---\n",
        "**PRINT THE FINAL RESULTS**\n",
        "\n",
        "\n",
        "\n",
        "---\n",
        "\n"
      ],
      "metadata": {
        "id": "HIBVYtKubTWd"
      }
    },
    {
      "cell_type": "code",
      "source": [
        "print(f\"Probability of (Yes | [Sunny, Mild, High, TRUE]) = {sample_probability_yes}\")\n",
        "print(f\"Probability of (No  | [Sunny, Mild, High, TRUE]) = {sample_probability_no}\")\n"
      ],
      "metadata": {
        "colab": {
          "base_uri": "https://localhost:8080/"
        },
        "id": "7ylPRjrET81W",
        "outputId": "a17efae1-7ccb-4670-c74d-a3fa951b1be0"
      },
      "execution_count": null,
      "outputs": [
        {
          "output_type": "stream",
          "name": "stdout",
          "text": [
            "Probability of (Yes | [Sunny, Mild, High, TRUE]) = 0.0075973409306742635\n",
            "Probability of (No  | [Sunny, Mild, High, TRUE]) = 0.007211538461538462\n"
          ]
        }
      ]
    }
  ]
}