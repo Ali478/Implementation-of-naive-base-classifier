{
  "nbformat": 4,
  "nbformat_minor": 0,
  "metadata": {
    "colab": {
      "name": "Qno1.ipynb",
      "provenance": [],
      "authorship_tag": "ABX9TyOD9EDEsIkOxhSpqviSMGf+",
      "include_colab_link": true
    },
    "kernelspec": {
      "name": "python3",
      "display_name": "Python 3"
    },
    "language_info": {
      "name": "python"
    }
  },
  "cells": [
    {
      "cell_type": "markdown",
      "metadata": {
        "id": "view-in-github",
        "colab_type": "text"
      },
      "source": [
        "<a href=\"https://colab.research.google.com/github/Ali478/Implementation-of-naive-base-classifier/blob/main/Qno1.ipynb\" target=\"_parent\"><img src=\"https://colab.research.google.com/assets/colab-badge.svg\" alt=\"Open In Colab\"/></a>"
      ]
    },
    {
      "cell_type": "markdown",
      "source": [
        "**module that allows Python to read data from Excel files.**"
      ],
      "metadata": {
        "id": "ZwvqzEZrQmkW"
      }
    },
    {
      "cell_type": "code",
      "execution_count": 8,
      "metadata": {
        "id": "i7SJ7AfVLlzX"
      },
      "outputs": [],
      "source": [
        "import xlrd\n",
        "import pandas as pd"
      ]
    },
    {
      "cell_type": "code",
      "source": [
        "from google.colab import drive\n",
        "drive.mount('/content/drive')"
      ],
      "metadata": {
        "colab": {
          "base_uri": "https://localhost:8080/"
        },
        "id": "5ACqK38RRJ8x",
        "outputId": "1c6af187-25e4-4ec8-eccb-158f3e852a68"
      },
      "execution_count": 5,
      "outputs": [
        {
          "output_type": "stream",
          "name": "stdout",
          "text": [
            "Mounted at /content/drive\n"
          ]
        }
      ]
    },
    {
      "cell_type": "code",
      "source": [
        "dataset_file_path = \"/content/drive/MyDrive/golf-dataset.xlsx\""
      ],
      "metadata": {
        "id": "QEUePNkDQsaS"
      },
      "execution_count": 22,
      "outputs": []
    },
    {
      "cell_type": "code",
      "source": [
        "dataset_workbook = xlrd.open_workbook(dataset_file_path)\n",
        "dataset_sheet = dataset_workbook.sheet_by_index(0)"
      ],
      "metadata": {
        "id": "wK2CTkARQ3kV"
      },
      "execution_count": 24,
      "outputs": []
    },
    {
      "cell_type": "code",
      "source": [
        "test_sample = [\"Sunny\", \"Mild\", \"High\", 1]\n",
        "total_samples = 13"
      ],
      "metadata": {
        "id": "oUeNVROnS44d"
      },
      "execution_count": 25,
      "outputs": []
    },
    {
      "cell_type": "code",
      "source": [
        "no_count = 0\n",
        "yes_count = 0 "
      ],
      "metadata": {
        "id": "Xes1h2njS8pj"
      },
      "execution_count": 26,
      "outputs": []
    },
    {
      "cell_type": "code",
      "source": [
        "row_pointer, col_pointer = 1, 4\n",
        "\n",
        "while(row_pointer != total_samples + 1):\n",
        "\n",
        "    if dataset_sheet.cell_value(row_pointer, col_pointer) == \"No\":\n",
        "        no_count += 1\n",
        "    elif dataset_sheet.cell_value(row_pointer, col_pointer) == \"Yes\":\n",
        "        yes_count += 1\n",
        "\n",
        "    row_pointer += 1\n"
      ],
      "metadata": {
        "id": "fLXg_b5ZTCqV"
      },
      "execution_count": 27,
      "outputs": []
    },
    {
      "cell_type": "code",
      "source": [
        "no_probability = no_count / total_samples\n",
        "yes_probability = yes_count / total_samples"
      ],
      "metadata": {
        "id": "X603NwHHTbLW"
      },
      "execution_count": 28,
      "outputs": []
    },
    {
      "cell_type": "code",
      "source": [
        "test_sample_probability_no = 0\n",
        "test_sample_probability_yes = 0"
      ],
      "metadata": {
        "id": "-59H0o2gTdAt"
      },
      "execution_count": 29,
      "outputs": []
    },
    {
      "cell_type": "code",
      "source": [
        "feature1 = test_sample[0]\n",
        "feature2 = test_sample[1]\n",
        "feature3 = test_sample[2]\n",
        "feature4 = test_sample[3]\n",
        "\n",
        "feature1_count_with_no = 0\n",
        "feature2_count_with_no = 0\n",
        "feature3_count_with_no = 0\n",
        "feature4_count_with_no = 0\n",
        "\n",
        "feature1_count_with_yes = 0\n",
        "feature2_count_with_yes = 0\n",
        "feature3_count_with_yes = 0\n",
        "feature4_count_with_yes = 0"
      ],
      "metadata": {
        "id": "GILAQ1ZgTfqX"
      },
      "execution_count": 30,
      "outputs": []
    },
    {
      "cell_type": "code",
      "source": [
        "row_pointer, col_pointer = 1, 0\n",
        "\n",
        "while(row_pointer != (total_samples + 1)):\n",
        "\n",
        "    if dataset_sheet.cell_value(row_pointer, col_pointer) == feature1 and dataset_sheet.cell_value(row_pointer, col_pointer + 4) == \"No\":\n",
        "        feature1_count_with_no += 1 \n",
        "    elif dataset_sheet.cell_value(row_pointer, col_pointer) == feature1 and dataset_sheet.cell_value(row_pointer, col_pointer + 4) == \"Yes\": \n",
        "        feature1_count_with_yes += 1\n",
        "\n",
        "    row_pointer += 1"
      ],
      "metadata": {
        "id": "4K6ul45kTk_C"
      },
      "execution_count": 31,
      "outputs": []
    },
    {
      "cell_type": "code",
      "source": [
        "row_pointer, col_pointer = 1, 1\n",
        "\n",
        "while(row_pointer != (total_samples + 1)):\n",
        "    \n",
        "    if dataset_sheet.cell_value(row_pointer, col_pointer) == feature2 and dataset_sheet.cell_value(row_pointer, col_pointer + 3) == \"No\":\n",
        "        feature2_count_with_no += 1 \n",
        "    elif dataset_sheet.cell_value(row_pointer, col_pointer) == feature2 and dataset_sheet.cell_value(row_pointer, col_pointer + 3) == \"Yes\": \n",
        "        feature2_count_with_yes += 1\n",
        "\n",
        "    row_pointer += 1"
      ],
      "metadata": {
        "id": "-lD1w6hjTqS-"
      },
      "execution_count": 32,
      "outputs": []
    },
    {
      "cell_type": "code",
      "source": [
        "row_pointer, col_pointer = 1, 2\n",
        "\n",
        "while(row_pointer != (total_samples + 1)):\n",
        "    \n",
        "    if dataset_sheet.cell_value(row_pointer, col_pointer) == feature3 and dataset_sheet.cell_value(row_pointer, col_pointer + 2) == \"No\":\n",
        "        feature3_count_with_no += 1 \n",
        "    elif dataset_sheet.cell_value(row_pointer, col_pointer) == feature3 and dataset_sheet.cell_value(row_pointer, col_pointer + 2) == \"Yes\": \n",
        "        feature3_count_with_yes += 1\n",
        "\n",
        "    row_pointer += 1"
      ],
      "metadata": {
        "id": "E5Uy1XRfTvfR"
      },
      "execution_count": 33,
      "outputs": []
    },
    {
      "cell_type": "code",
      "source": [
        "row_pointer, col_pointer = 1, 3\n",
        "\n",
        "while(row_pointer != (total_samples + 1)):\n",
        "    \n",
        "    if dataset_sheet.cell_value(row_pointer, col_pointer) == feature4 and dataset_sheet.cell_value(row_pointer, col_pointer + 1) == \"No\":\n",
        "        feature4_count_with_no += 1 \n",
        "    elif dataset_sheet.cell_value(row_pointer, col_pointer) == feature4 and dataset_sheet.cell_value(row_pointer, col_pointer + 1) == \"Yes\": \n",
        "        feature4_count_with_yes += 1\n",
        "\n",
        "    row_pointer += 1\n"
      ],
      "metadata": {
        "id": "HFFOPbI1T0Fd"
      },
      "execution_count": 34,
      "outputs": []
    },
    {
      "cell_type": "code",
      "source": [
        "sample_probability_no = feature1_count_with_no / no_count * feature2_count_with_no / no_count * feature3_count_with_no / no_count * feature4_count_with_no/no_count * no_probability\n",
        "sample_probability_yes = feature1_count_with_yes / yes_count * feature2_count_with_yes / yes_count * feature3_count_with_yes / yes_count * feature4_count_with_yes / yes_count * yes_probability"
      ],
      "metadata": {
        "id": "wZt-EFhUT4Wb"
      },
      "execution_count": 35,
      "outputs": []
    },
    {
      "cell_type": "code",
      "source": [
        "print(f\"P(No | [Sunny, Mild, High, TRUE]) = {sample_probability_no}\")\n",
        "print(f\"P(Yes | [Sunny, Mild, High, TRUE]) = {sample_probability_yes}\")"
      ],
      "metadata": {
        "colab": {
          "base_uri": "https://localhost:8080/"
        },
        "id": "7ylPRjrET81W",
        "outputId": "923a1582-f945-455b-f558-8d131d735ead"
      },
      "execution_count": 36,
      "outputs": [
        {
          "output_type": "stream",
          "name": "stdout",
          "text": [
            "P(No | [Sunny, Mild, High, TRUE]) = 0.007211538461538462\n",
            "P(Yes | [Sunny, Mild, High, TRUE]) = 0.0075973409306742635\n"
          ]
        }
      ]
    }
  ]
}