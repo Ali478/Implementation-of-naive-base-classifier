{
  "nbformat": 4,
  "nbformat_minor": 0,
  "metadata": {
    "colab": {
      "name": "Qno2.ipynb",
      "provenance": [],
      "authorship_tag": "ABX9TyOWGiCScFHIGy235bXEjWSY",
      "include_colab_link": true
    },
    "kernelspec": {
      "name": "python3",
      "display_name": "Python 3"
    },
    "language_info": {
      "name": "python"
    }
  },
  "cells": [
    {
      "cell_type": "markdown",
      "metadata": {
        "id": "view-in-github",
        "colab_type": "text"
      },
      "source": [
        "<a href=\"https://colab.research.google.com/github/Ali478/Implementation-of-naive-base-classifier/blob/main/Qno2.ipynb\" target=\"_parent\"><img src=\"https://colab.research.google.com/assets/colab-badge.svg\" alt=\"Open In Colab\"/></a>"
      ]
    },
    {
      "cell_type": "markdown",
      "source": [
        "# **Module that allows Python to read data from Excel files.**"
      ],
      "metadata": {
        "id": "ZwvqzEZrQmkW"
      }
    },
    {
      "cell_type": "code",
      "execution_count": 1,
      "metadata": {
        "id": "i7SJ7AfVLlzX"
      },
      "outputs": [],
      "source": [
        "import xlrd"
      ]
    },
    {
      "cell_type": "markdown",
      "source": [
        "# **Connect Google Drive To Pick up the content**"
      ],
      "metadata": {
        "id": "I8_gjKBCVTBP"
      }
    },
    {
      "cell_type": "code",
      "source": [
        "from google.colab import drive\n",
        "drive.mount('/content/drive')"
      ],
      "metadata": {
        "colab": {
          "base_uri": "https://localhost:8080/"
        },
        "id": "5ACqK38RRJ8x",
        "outputId": "00a14e0a-d780-41d0-f6f4-f1d6d1a25aad"
      },
      "execution_count": 2,
      "outputs": [
        {
          "output_type": "stream",
          "name": "stdout",
          "text": [
            "Mounted at /content/drive\n"
          ]
        }
      ]
    },
    {
      "cell_type": "code",
      "source": [
        "dataset_file_path = \"/content/drive/MyDrive/ML_Assig2/golf-dataset.xlsx\""
      ],
      "metadata": {
        "id": "QEUePNkDQsaS"
      },
      "execution_count": 3,
      "outputs": []
    },
    {
      "cell_type": "markdown",
      "source": [
        "# **`Open Excel file using python api XLRD`**"
      ],
      "metadata": {
        "id": "z8VuoCvoVfTg"
      }
    },
    {
      "cell_type": "code",
      "source": [
        "dataset_workbook = xlrd.open_workbook(dataset_file_path)\n",
        "dataset_sheet = dataset_workbook.sheet_by_index(0)"
      ],
      "metadata": {
        "id": "wK2CTkARQ3kV"
      },
      "execution_count": 4,
      "outputs": []
    },
    {
      "cell_type": "markdown",
      "source": [
        "# **Using first 10 samples, predict the Yes or No label for the samples 11, 12 and 13. Write your results in the form of a table. Comment on the performance of NB classifier. What would be the class label for the sample given in 1. Does the class label change?**"
      ],
      "metadata": {
        "id": "_AsU2gESV2QY"
      }
    },
    {
      "cell_type": "markdown",
      "source": [
        "![Screenshot from 2022-03-12 14-24-47.png](data:image/png;base64,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)"
      ],
      "metadata": {
        "id": "x_cB6KLrRDjw"
      }
    },
    {
      "cell_type": "markdown",
      "source": [
        "\n",
        "\n",
        "\n",
        "---\n",
        "**Testing sample**\n",
        "\n",
        "\n",
        "---\n",
        "\n"
      ],
      "metadata": {
        "id": "RAcppT4UYq7c"
      }
    },
    {
      "cell_type": "code",
      "source": [
        "test_sample = [\"Overcast\", \"Hot\", \"Normal\", 0]\n",
        "total_samples = 10"
      ],
      "metadata": {
        "id": "HZdNAuE2OQ1z"
      },
      "execution_count": 5,
      "outputs": []
    },
    {
      "cell_type": "code",
      "source": [
        "no_count = 0\n",
        "yes_count = 0 "
      ],
      "metadata": {
        "id": "Xes1h2njS8pj"
      },
      "execution_count": 6,
      "outputs": []
    },
    {
      "cell_type": "markdown",
      "source": [
        "\n",
        "\n",
        "---\n",
        "**Checking probability by Column Operation**\n",
        "\n",
        "---\n",
        "\n"
      ],
      "metadata": {
        "id": "-EBMP48raBYJ"
      }
    },
    {
      "cell_type": "code",
      "source": [
        "row_pointer, col_pointer = 1, 4\n",
        "\n",
        "while(row_pointer != total_samples + 1):\n",
        "\n",
        "    if dataset_sheet.cell_value(row_pointer, col_pointer) == \"No\":\n",
        "        no_count += 1\n",
        "    elif dataset_sheet.cell_value(row_pointer, col_pointer) == \"Yes\":\n",
        "        yes_count += 1\n",
        "\n",
        "    row_pointer += 1\n"
      ],
      "metadata": {
        "id": "fLXg_b5ZTCqV"
      },
      "execution_count": 7,
      "outputs": []
    },
    {
      "cell_type": "markdown",
      "source": [
        "\n",
        "\n",
        "---\n",
        "\n",
        "\n",
        "**Probability Formula**\n",
        "\n",
        "---\n",
        "\n"
      ],
      "metadata": {
        "id": "anziMNGDaU_v"
      }
    },
    {
      "cell_type": "code",
      "source": [
        "no_probability = no_count / total_samples\n",
        "yes_probability = yes_count / total_samples"
      ],
      "metadata": {
        "id": "X603NwHHTbLW"
      },
      "execution_count": 8,
      "outputs": []
    },
    {
      "cell_type": "code",
      "source": [
        "test_sample_probability_no = 0\n",
        "test_sample_probability_yes = 0"
      ],
      "metadata": {
        "id": "-59H0o2gTdAt"
      },
      "execution_count": 9,
      "outputs": []
    },
    {
      "cell_type": "markdown",
      "source": [
        "\n",
        "\n",
        "---\n",
        "\n",
        "**Initializing variables**\n",
        "\n",
        "---\n",
        "\n"
      ],
      "metadata": {
        "id": "PjZT6sU6amUZ"
      }
    },
    {
      "cell_type": "code",
      "source": [
        "feature1 = test_sample[0]\n",
        "feature2 = test_sample[1]\n",
        "feature3 = test_sample[2]\n",
        "feature4 = test_sample[3]\n",
        "\n",
        "feature1_count_with_no = 0\n",
        "feature2_count_with_no = 0\n",
        "feature3_count_with_no = 0\n",
        "feature4_count_with_no = 0\n",
        "\n",
        "feature1_count_with_yes = 0\n",
        "feature2_count_with_yes = 0\n",
        "feature3_count_with_yes = 0\n",
        "feature4_count_with_yes = 0"
      ],
      "metadata": {
        "id": "GILAQ1ZgTfqX"
      },
      "execution_count": 10,
      "outputs": []
    },
    {
      "cell_type": "markdown",
      "source": [
        "\n",
        "\n",
        "---\n",
        "\n",
        "\n",
        "**Remaining Colmun Operations**\n",
        "\n",
        "---\n",
        "\n"
      ],
      "metadata": {
        "id": "1nUijqoNazEO"
      }
    },
    {
      "cell_type": "code",
      "source": [
        "row_pointer, col_pointer = 1, 0\n",
        "\n",
        "while(row_pointer != (total_samples + 1)):\n",
        "\n",
        "    if dataset_sheet.cell_value(row_pointer, col_pointer) == feature1 and dataset_sheet.cell_value(row_pointer, col_pointer + 4) == \"No\":\n",
        "        feature1_count_with_no += 1 \n",
        "    elif dataset_sheet.cell_value(row_pointer, col_pointer) == feature1 and dataset_sheet.cell_value(row_pointer, col_pointer + 4) == \"Yes\": \n",
        "        feature1_count_with_yes += 1\n",
        "\n",
        "    row_pointer += 1"
      ],
      "metadata": {
        "id": "4K6ul45kTk_C"
      },
      "execution_count": 11,
      "outputs": []
    },
    {
      "cell_type": "code",
      "source": [
        "row_pointer, col_pointer = 1, 1\n",
        "\n",
        "while(row_pointer != (total_samples + 1)):\n",
        "    \n",
        "    if dataset_sheet.cell_value(row_pointer, col_pointer) == feature2 and dataset_sheet.cell_value(row_pointer, col_pointer + 3) == \"No\":\n",
        "        feature2_count_with_no += 1 \n",
        "    elif dataset_sheet.cell_value(row_pointer, col_pointer) == feature2 and dataset_sheet.cell_value(row_pointer, col_pointer + 3) == \"Yes\": \n",
        "        feature2_count_with_yes += 1\n",
        "\n",
        "    row_pointer += 1"
      ],
      "metadata": {
        "id": "-lD1w6hjTqS-"
      },
      "execution_count": 12,
      "outputs": []
    },
    {
      "cell_type": "code",
      "source": [
        "row_pointer, col_pointer = 1, 2\n",
        "\n",
        "while(row_pointer != (total_samples + 1)):\n",
        "    \n",
        "    if dataset_sheet.cell_value(row_pointer, col_pointer) == feature3 and dataset_sheet.cell_value(row_pointer, col_pointer + 2) == \"No\":\n",
        "        feature3_count_with_no += 1 \n",
        "    elif dataset_sheet.cell_value(row_pointer, col_pointer) == feature3 and dataset_sheet.cell_value(row_pointer, col_pointer + 2) == \"Yes\": \n",
        "        feature3_count_with_yes += 1\n",
        "\n",
        "    row_pointer += 1"
      ],
      "metadata": {
        "id": "E5Uy1XRfTvfR"
      },
      "execution_count": 13,
      "outputs": []
    },
    {
      "cell_type": "code",
      "source": [
        "row_pointer, col_pointer = 1, 3\n",
        "\n",
        "while(row_pointer != (total_samples + 1)):\n",
        "    \n",
        "    if dataset_sheet.cell_value(row_pointer, col_pointer) == feature4 and dataset_sheet.cell_value(row_pointer, col_pointer + 1) == \"No\":\n",
        "        feature4_count_with_no += 1 \n",
        "    elif dataset_sheet.cell_value(row_pointer, col_pointer) == feature4 and dataset_sheet.cell_value(row_pointer, col_pointer + 1) == \"Yes\": \n",
        "        feature4_count_with_yes += 1\n",
        "\n",
        "    row_pointer += 1"
      ],
      "metadata": {
        "id": "HFFOPbI1T0Fd"
      },
      "execution_count": 14,
      "outputs": []
    },
    {
      "cell_type": "markdown",
      "source": [
        "\n",
        "\n",
        "---\n",
        "\n",
        "**Applying Smoothing on the probability of Feature of Outlook**\n",
        "\n",
        "\n",
        "---\n"
      ],
      "metadata": {
        "id": "0Q7ZoVprOpqC"
      }
    },
    {
      "cell_type": "code",
      "source": [
        "feature1_probability_no = feature1_count_with_no / no_count if feature1_count_with_no > 0 else (feature1_count_with_no + 1) / (no_count + 1)\n",
        "feature2_probability_no = feature2_count_with_no / no_count if feature2_count_with_no > 0 else (feature2_count_with_no + 1) / (no_count + 1)\n",
        "feature3_probability_no = feature3_count_with_no / no_count if feature3_count_with_no > 0 else (feature3_count_with_no + 1) / (no_count + 1)\n",
        "feature4_probability_no = feature4_count_with_no / no_count if feature4_count_with_no > 0 else (feature4_count_with_no + 1) / (no_count + 1)"
      ],
      "metadata": {
        "id": "PadxG700PFPa"
      },
      "execution_count": 15,
      "outputs": []
    },
    {
      "cell_type": "code",
      "source": [
        "feature1_probability_yes = feature1_count_with_yes / yes_count if feature1_count_with_yes > 0 else (feature1_count_with_yes + 1) / (yes_count + 1)\n",
        "feature2_probability_yes = feature2_count_with_yes / yes_count if feature2_count_with_yes > 0 else (feature2_count_with_yes + 1) / (yes_count + 1)\n",
        "feature3_probability_yes = feature3_count_with_yes / yes_count if feature3_count_with_yes > 0 else (feature3_count_with_yes + 1) / (yes_count + 1)\n",
        "feature4_probability_yes = feature4_count_with_yes / yes_count if feature4_count_with_yes > 0 else (feature4_count_with_yes + 1) / (yes_count + 1)"
      ],
      "metadata": {
        "id": "hHgagZ-vPTht"
      },
      "execution_count": 16,
      "outputs": []
    },
    {
      "cell_type": "markdown",
      "source": [
        "\n",
        "\n",
        "---\n",
        "\n",
        "**FINAL PROBABILITY FORMULA**\n",
        "\n",
        "\n",
        "---\n",
        "\n"
      ],
      "metadata": {
        "id": "AWuloz8IbLTK"
      }
    },
    {
      "cell_type": "code",
      "source": [
        "sample_probability_no = no_probability * feature1_probability_no * feature2_probability_no * feature3_probability_no * feature4_probability_no\n",
        "sample_probability_yes = yes_probability * feature1_probability_yes * feature2_probability_yes * feature3_probability_yes * feature4_probability_yes"
      ],
      "metadata": {
        "id": "wZt-EFhUT4Wb"
      },
      "execution_count": 17,
      "outputs": []
    },
    {
      "cell_type": "markdown",
      "source": [
        "\n",
        "\n",
        "---\n",
        "**PRINT THE FINAL RESULTS**\n",
        "\n",
        "\n",
        "\n",
        "---\n",
        "\n"
      ],
      "metadata": {
        "id": "HIBVYtKubTWd"
      }
    },
    {
      "cell_type": "code",
      "source": [
        "print(f\"P(No  | [Overcase, Hot, Normal, FALSE]) = {sample_probability_no}\")\n",
        "print(f\"P(Yes | [Overcase, Hot, Normal, FALSE]) = {sample_probability_yes}\")"
      ],
      "metadata": {
        "colab": {
          "base_uri": "https://localhost:8080/"
        },
        "id": "7ylPRjrET81W",
        "outputId": "919949f1-eb77-4aa8-9aa9-e66174d78b68"
      },
      "execution_count": 18,
      "outputs": [
        {
          "output_type": "stream",
          "name": "stdout",
          "text": [
            "P(No  | [Overcase, Hot, Normal, FALSE]) = 0.005000000000000001\n",
            "P(Yes | [Overcase, Hot, Normal, FALSE]) = 0.018518518518518514\n"
          ]
        }
      ]
    }
  ]
}