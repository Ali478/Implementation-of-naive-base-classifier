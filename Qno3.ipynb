{
  "nbformat": 4,
  "nbformat_minor": 0,
  "metadata": {
    "colab": {
      "name": "Qno3.ipynb",
      "provenance": [],
      "authorship_tag": "ABX9TyMJVcrdwQE3DLUTq1IJUgEH",
      "include_colab_link": true
    },
    "kernelspec": {
      "name": "python3",
      "display_name": "Python 3"
    },
    "language_info": {
      "name": "python"
    }
  },
  "cells": [
    {
      "cell_type": "markdown",
      "metadata": {
        "id": "view-in-github",
        "colab_type": "text"
      },
      "source": [
        "<a href=\"https://colab.research.google.com/github/Ali478/Implementation-of-naive-base-classifier/blob/main/Qno3.ipynb\" target=\"_parent\"><img src=\"https://colab.research.google.com/assets/colab-badge.svg\" alt=\"Open In Colab\"/></a>"
      ]
    },
    {
      "cell_type": "markdown",
      "source": [
        "# **Module that allows Python to read data from Excel files.**"
      ],
      "metadata": {
        "id": "ZwvqzEZrQmkW"
      }
    },
    {
      "cell_type": "code",
      "execution_count": 1,
      "metadata": {
        "id": "i7SJ7AfVLlzX"
      },
      "outputs": [],
      "source": [
        "import xlrd"
      ]
    },
    {
      "cell_type": "markdown",
      "source": [
        "# **Connect Google Drive To Pick up the content**"
      ],
      "metadata": {
        "id": "I8_gjKBCVTBP"
      }
    },
    {
      "cell_type": "code",
      "source": [
        "from google.colab import drive\n",
        "drive.mount('/content/drive')"
      ],
      "metadata": {
        "colab": {
          "base_uri": "https://localhost:8080/"
        },
        "id": "5ACqK38RRJ8x",
        "outputId": "e3b1f963-7977-42ee-db06-847889116639"
      },
      "execution_count": 2,
      "outputs": [
        {
          "output_type": "stream",
          "name": "stdout",
          "text": [
            "Mounted at /content/drive\n"
          ]
        }
      ]
    },
    {
      "cell_type": "code",
      "source": [
        "dataset_file_path = \"/content/drive/MyDrive/ML_Assig2/golf-dataset.xlsx\""
      ],
      "metadata": {
        "id": "QEUePNkDQsaS"
      },
      "execution_count": 3,
      "outputs": []
    },
    {
      "cell_type": "markdown",
      "source": [
        "# **`Open Excel file using python api XLRD`**"
      ],
      "metadata": {
        "id": "z8VuoCvoVfTg"
      }
    },
    {
      "cell_type": "code",
      "source": [
        "dataset_workbook = xlrd.open_workbook(dataset_file_path)\n",
        "dataset_sheet = dataset_workbook.sheet_by_index(0)"
      ],
      "metadata": {
        "id": "wK2CTkARQ3kV"
      },
      "execution_count": 4,
      "outputs": []
    },
    {
      "cell_type": "markdown",
      "source": [
        "# **Using first 11 samples, predict the Yes or No label for the samples 12 and 13. Write your results in the form of a table. Comment on the performance of NB classifier. What would be the class label for the sample given in 1. Does the class label change?**"
      ],
      "metadata": {
        "id": "_AsU2gESV2QY"
      }
    },
    {
      "cell_type": "markdown",
      "source": [
        "![Screenshot from 2022-03-12 14-26-27.png](data:image/png;base64,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)"
      ],
      "metadata": {
        "id": "x_cB6KLrRDjw"
      }
    },
    {
      "cell_type": "markdown",
      "source": [
        "\n",
        "\n",
        "\n",
        "---\n",
        "**Testing sample**\n",
        "\n",
        "\n",
        "---\n",
        "\n"
      ],
      "metadata": {
        "id": "RAcppT4UYq7c"
      }
    },
    {
      "cell_type": "code",
      "source": [
        "test_sample = [\"Overcast\", \"Hot\", \"Normal\", 0]\n",
        "total_samples = 11"
      ],
      "metadata": {
        "id": "HZdNAuE2OQ1z"
      },
      "execution_count": 5,
      "outputs": []
    },
    {
      "cell_type": "code",
      "source": [
        "no_count = 0\n",
        "yes_count = 0 "
      ],
      "metadata": {
        "id": "Xes1h2njS8pj"
      },
      "execution_count": 6,
      "outputs": []
    },
    {
      "cell_type": "markdown",
      "source": [
        "\n",
        "\n",
        "---\n",
        "**Checking probability by Column Operation**\n",
        "\n",
        "---\n",
        "\n"
      ],
      "metadata": {
        "id": "-EBMP48raBYJ"
      }
    },
    {
      "cell_type": "code",
      "source": [
        "row_pointer, col_pointer = 1, 4\n",
        "\n",
        "while(row_pointer != total_samples + 1):\n",
        "\n",
        "    if dataset_sheet.cell_value(row_pointer, col_pointer) == \"No\":\n",
        "        no_count += 1\n",
        "    elif dataset_sheet.cell_value(row_pointer, col_pointer) == \"Yes\":\n",
        "        yes_count += 1\n",
        "\n",
        "    row_pointer += 1\n"
      ],
      "metadata": {
        "id": "fLXg_b5ZTCqV"
      },
      "execution_count": 7,
      "outputs": []
    },
    {
      "cell_type": "markdown",
      "source": [
        "\n",
        "\n",
        "---\n",
        "\n",
        "\n",
        "**Probability Formula**\n",
        "\n",
        "---\n",
        "\n"
      ],
      "metadata": {
        "id": "anziMNGDaU_v"
      }
    },
    {
      "cell_type": "code",
      "source": [
        "no_probability = no_count / total_samples\n",
        "yes_probability = yes_count / total_samples"
      ],
      "metadata": {
        "id": "X603NwHHTbLW"
      },
      "execution_count": 8,
      "outputs": []
    },
    {
      "cell_type": "code",
      "source": [
        "test_sample_probability_no = 0\n",
        "test_sample_probability_yes = 0"
      ],
      "metadata": {
        "id": "-59H0o2gTdAt"
      },
      "execution_count": 9,
      "outputs": []
    },
    {
      "cell_type": "markdown",
      "source": [
        "\n",
        "\n",
        "---\n",
        "\n",
        "**Initializing variables**\n",
        "\n",
        "---\n",
        "\n"
      ],
      "metadata": {
        "id": "PjZT6sU6amUZ"
      }
    },
    {
      "cell_type": "code",
      "source": [
        "feature1 = test_sample[0]\n",
        "feature2 = test_sample[1]\n",
        "feature3 = test_sample[2]\n",
        "feature4 = test_sample[3]\n",
        "\n",
        "feature1_count_with_no = 0\n",
        "feature2_count_with_no = 0\n",
        "feature3_count_with_no = 0\n",
        "feature4_count_with_no = 0\n",
        "\n",
        "feature1_count_with_yes = 0\n",
        "feature2_count_with_yes = 0\n",
        "feature3_count_with_yes = 0\n",
        "feature4_count_with_yes = 0"
      ],
      "metadata": {
        "id": "GILAQ1ZgTfqX"
      },
      "execution_count": 10,
      "outputs": []
    },
    {
      "cell_type": "markdown",
      "source": [
        "\n",
        "\n",
        "---\n",
        "\n",
        "\n",
        "**Remaining Colmun Operations**\n",
        "\n",
        "---\n",
        "\n"
      ],
      "metadata": {
        "id": "1nUijqoNazEO"
      }
    },
    {
      "cell_type": "code",
      "source": [
        "row_pointer, col_pointer = 1, 0\n",
        "\n",
        "while(row_pointer != (total_samples + 1)):\n",
        "\n",
        "    if dataset_sheet.cell_value(row_pointer, col_pointer) == feature1 and dataset_sheet.cell_value(row_pointer, col_pointer + 4) == \"No\":\n",
        "        feature1_count_with_no += 1 \n",
        "    elif dataset_sheet.cell_value(row_pointer, col_pointer) == feature1 and dataset_sheet.cell_value(row_pointer, col_pointer + 4) == \"Yes\": \n",
        "        feature1_count_with_yes += 1\n",
        "\n",
        "    row_pointer += 1"
      ],
      "metadata": {
        "id": "4K6ul45kTk_C"
      },
      "execution_count": 11,
      "outputs": []
    },
    {
      "cell_type": "code",
      "source": [
        "row_pointer, col_pointer = 1, 1\n",
        "\n",
        "while(row_pointer != (total_samples + 1)):\n",
        "    \n",
        "    if dataset_sheet.cell_value(row_pointer, col_pointer) == feature2 and dataset_sheet.cell_value(row_pointer, col_pointer + 3) == \"No\":\n",
        "        feature2_count_with_no += 1 \n",
        "    elif dataset_sheet.cell_value(row_pointer, col_pointer) == feature2 and dataset_sheet.cell_value(row_pointer, col_pointer + 3) == \"Yes\": \n",
        "        feature2_count_with_yes += 1\n",
        "\n",
        "    row_pointer += 1"
      ],
      "metadata": {
        "id": "-lD1w6hjTqS-"
      },
      "execution_count": 12,
      "outputs": []
    },
    {
      "cell_type": "code",
      "source": [
        "row_pointer, col_pointer = 1, 2\n",
        "\n",
        "while(row_pointer != (total_samples + 1)):\n",
        "    \n",
        "    if dataset_sheet.cell_value(row_pointer, col_pointer) == feature3 and dataset_sheet.cell_value(row_pointer, col_pointer + 2) == \"No\":\n",
        "        feature3_count_with_no += 1 \n",
        "    elif dataset_sheet.cell_value(row_pointer, col_pointer) == feature3 and dataset_sheet.cell_value(row_pointer, col_pointer + 2) == \"Yes\": \n",
        "        feature3_count_with_yes += 1\n",
        "\n",
        "    row_pointer += 1"
      ],
      "metadata": {
        "id": "E5Uy1XRfTvfR"
      },
      "execution_count": 13,
      "outputs": []
    },
    {
      "cell_type": "code",
      "source": [
        "row_pointer, col_pointer = 1, 3\n",
        "\n",
        "while(row_pointer != (total_samples + 1)):\n",
        "    \n",
        "    if dataset_sheet.cell_value(row_pointer, col_pointer) == feature4 and dataset_sheet.cell_value(row_pointer, col_pointer + 1) == \"No\":\n",
        "        feature4_count_with_no += 1 \n",
        "    elif dataset_sheet.cell_value(row_pointer, col_pointer) == feature4 and dataset_sheet.cell_value(row_pointer, col_pointer + 1) == \"Yes\": \n",
        "        feature4_count_with_yes += 1\n",
        "\n",
        "    row_pointer += 1"
      ],
      "metadata": {
        "id": "HFFOPbI1T0Fd"
      },
      "execution_count": 14,
      "outputs": []
    },
    {
      "cell_type": "markdown",
      "source": [
        "\n",
        "\n",
        "---\n",
        "\n",
        "**Applying Smoothing on the probability of Feature of Outlook**\n",
        "\n",
        "\n",
        "---\n"
      ],
      "metadata": {
        "id": "0Q7ZoVprOpqC"
      }
    },
    {
      "cell_type": "code",
      "source": [
        "feature1_probability_no = feature1_count_with_no / no_count if feature1_count_with_no > 0 else (feature1_count_with_no + 1) / (no_count + 1)\n",
        "feature2_probability_no = feature2_count_with_no / no_count if feature2_count_with_no > 0 else (feature2_count_with_no + 1) / (no_count + 1)\n",
        "feature3_probability_no = feature3_count_with_no / no_count if feature3_count_with_no > 0 else (feature3_count_with_no + 1) / (no_count + 1)\n",
        "feature4_probability_no = feature4_count_with_no / no_count if feature4_count_with_no > 0 else (feature4_count_with_no + 1) / (no_count + 1)"
      ],
      "metadata": {
        "id": "PadxG700PFPa"
      },
      "execution_count": 15,
      "outputs": []
    },
    {
      "cell_type": "code",
      "source": [
        "feature1_probability_yes = feature1_count_with_yes / yes_count if feature1_count_with_yes > 0 else (feature1_count_with_yes + 1) / (yes_count + 1)\n",
        "feature2_probability_yes = feature2_count_with_yes / yes_count if feature2_count_with_yes > 0 else (feature2_count_with_yes + 1) / (yes_count + 1)\n",
        "feature3_probability_yes = feature3_count_with_yes / yes_count if feature3_count_with_yes > 0 else (feature3_count_with_yes + 1) / (yes_count + 1)\n",
        "feature4_probability_yes = feature4_count_with_yes / yes_count if feature4_count_with_yes > 0 else (feature4_count_with_yes + 1) / (yes_count + 1)"
      ],
      "metadata": {
        "id": "hHgagZ-vPTht"
      },
      "execution_count": 16,
      "outputs": []
    },
    {
      "cell_type": "markdown",
      "source": [
        "\n",
        "\n",
        "---\n",
        "\n",
        "**FINAL PROBABILITY FORMULA**\n",
        "\n",
        "\n",
        "---\n",
        "\n"
      ],
      "metadata": {
        "id": "AWuloz8IbLTK"
      }
    },
    {
      "cell_type": "code",
      "source": [
        "sample_probability_no = no_probability * feature1_probability_no * feature2_probability_no * feature3_probability_no * feature4_probability_no\n",
        "sample_probability_yes = yes_probability * feature1_probability_yes * feature2_probability_yes * feature3_probability_yes * feature4_probability_yes"
      ],
      "metadata": {
        "id": "wZt-EFhUT4Wb"
      },
      "execution_count": 17,
      "outputs": []
    },
    {
      "cell_type": "markdown",
      "source": [
        "\n",
        "\n",
        "---\n",
        "**PRINT THE FINAL RESULTS**\n",
        "\n",
        "\n",
        "\n",
        "---\n",
        "\n"
      ],
      "metadata": {
        "id": "HIBVYtKubTWd"
      }
    },
    {
      "cell_type": "code",
      "source": [
        "print(f\"P(No  | [Overcast, Hot, Normal, FALSE]) = {sample_probability_no}\")\n",
        "print(f\"P(Yes | [Overcast, Hot, Normal, FALSE]) = {sample_probability_yes}\")"
      ],
      "metadata": {
        "colab": {
          "base_uri": "https://localhost:8080/"
        },
        "id": "7ylPRjrET81W",
        "outputId": "063b23fb-696b-45ff-944e-3533e9494899"
      },
      "execution_count": 18,
      "outputs": [
        {
          "output_type": "stream",
          "name": "stdout",
          "text": [
            "P(No  | [Overcast, Hot, Normal, FALSE]) = 0.004545454545454546\n",
            "P(Yes | [Overcast, Hot, Normal, FALSE]) = 0.015902464882056714\n"
          ]
        }
      ]
    }
  ]
}